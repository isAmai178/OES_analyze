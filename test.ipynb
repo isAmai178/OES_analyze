{
 "cells": [
  {
   "cell_type": "code",
   "execution_count": 1,
   "metadata": {},
   "outputs": [
    {
     "ename": "SystemExit",
     "evalue": "0",
     "output_type": "error",
     "traceback": [
      "An exception has occurred, use %tb to see the full traceback.\n",
      "\u001b[1;31mSystemExit\u001b[0m\u001b[1;31m:\u001b[0m 0\n"
     ]
    },
    {
     "name": "stderr",
     "output_type": "stream",
     "text": [
      "C:\\Users\\GOOD-PC\\AppData\\Roaming\\Python\\Python311\\site-packages\\IPython\\core\\interactiveshell.py:3534: UserWarning: To exit: use 'exit', 'quit', or Ctrl-D.\n",
      "  warn(\"To exit: use 'exit', 'quit', or Ctrl-D.\", stacklevel=1)\n"
     ]
    }
   ],
   "source": [
    "# from PyQt6.QtWidgets import (\n",
    "#     QApplication, QMainWindow, QPushButton, QVBoxLayout, QWidget,\n",
    "#     QFileDialog, QListWidget, QMessageBox\n",
    "# )\n",
    "# import sys\n",
    "\n",
    "# class FileUploader(QMainWindow):\n",
    "#     def __init__(self):\n",
    "#         super().__init__()\n",
    "#         self.setWindowTitle('oxxo.studio')\n",
    "# # 設定主視窗\n",
    "#         self.setWindowTitle(\"檔案選擇與上傳\")\n",
    "#         self.setGeometry(100, 100, 400, 300)\n",
    "\n",
    "#         # 初始化介面元件\n",
    "#         self.layout = QVBoxLayout()\n",
    "#         self.upload_button = QPushButton(\"選取檔案\")\n",
    "#         self.file_list_widget = QListWidget()\n",
    "\n",
    "#         # 設定按鈕的點擊事件\n",
    "#         self.upload_button.clicked.connect(self.select_files)\n",
    "\n",
    "#         # 將元件加入佈局\n",
    "#         self.layout.addWidget(self.upload_button)\n",
    "#         self.layout.addWidget(self.file_list_widget)\n",
    "\n",
    "#         # 設定中心 Widget\n",
    "#         container = QWidget()\n",
    "#         container.setLayout(self.layout)\n",
    "#         self.setCentralWidget(container)    # 設定標籤文字\n",
    "#     def select_files(self):\n",
    "#             # 彈出檔案選取對話框\n",
    "#             files, _ = QFileDialog.getOpenFileNames(self, \"選取檔案\", \"\", \"All Files (*.*)\")\n",
    "\n",
    "#             if files:\n",
    "#                 # 清空之前的檔案清單\n",
    "#                 self.file_list_widget.clear()\n",
    "\n",
    "#                 # 將選取的檔案名稱加入 ListWidget\n",
    "#                 for file in files:\n",
    "#                     self.file_list_widget.addItem(file)\n",
    "\n",
    "#                 # 顯示訊息框，告知上傳完成\n",
    "#                 QMessageBox.information(self, \"成功\", f\"已成功選取 {len(files)} 個檔案。\")\n",
    "\n",
    "# if __name__ == \"__main__\":\n",
    "#     app = QApplication(sys.argv)\n",
    "#     window = FileUploader()\n",
    "#     window.show()\n",
    "#     sys.exit(app.exec())\n",
    "import sys\n",
    "from PyQt6.QtWidgets import QApplication, QMainWindow, QTableWidget, QTableWidgetItem, QVBoxLayout, QWidget\n",
    "\n",
    "class MainWindow(QMainWindow):\n",
    "    def __init__(self):\n",
    "        super().__init__()\n",
    "\n",
    "        self.setWindowTitle(\"PyQt6 Table Example\")\n",
    "        self.setGeometry(100, 100, 600, 400)\n",
    "\n",
    "        # 建立表格\n",
    "        self.table = QTableWidget(self)\n",
    "        self.table.setRowCount(20)  # 設定列數\n",
    "        self.table.setColumnCount(3)  # 設定欄數\n",
    "        self.table.setHorizontalHeaderLabels([\"Column 1\", \"Column 2\", \"Column 3\"])\n",
    "\n",
    "        # 填入數據\n",
    "        for row in range(10):\n",
    "            for column in range(3):\n",
    "                item = QTableWidgetItem(f\"Row {row+1}, Column {column+1}\")\n",
    "                self.table.setItem(row, column, item)\n",
    "\n",
    "        # 設定佈局\n",
    "        layout = QVBoxLayout()\n",
    "        layout.addWidget(self.table)\n",
    "\n",
    "        container = QWidget()\n",
    "        container.setLayout(layout)\n",
    "\n",
    "        self.setCentralWidget(container)\n",
    "\n",
    "# 啟動應用程式\n",
    "app = QApplication(sys.argv)\n",
    "window = MainWindow()\n",
    "window.show()\n",
    "sys.exit(app.exec())\n"
   ]
  },
  {
   "cell_type": "code",
   "execution_count": 8,
   "metadata": {},
   "outputs": [
    {
     "data": {
      "text/plain": [
       "5"
      ]
     },
     "execution_count": 8,
     "metadata": {},
     "output_type": "execute_result"
    }
   ],
   "source": [
    "import pandas as pd\n",
    "\n",
    "data = {\n",
    "    '學號': [1, 2, 3, 4, 5],\n",
    "    '姓名': ['Aaron', 'Amber', 'Apple', 'Andy', 'Astrid'],\n",
    "    '國文': [100, 90, 80, 70, 60],\n",
    "    '英文': [90, 80, 70, 60, 50]\n",
    "}\n",
    "\n",
    "df = pd.DataFrame(data)\n",
    "df.shape[0]"
   ]
  }
 ],
 "metadata": {
  "kernelspec": {
   "display_name": "base",
   "language": "python",
   "name": "python3"
  },
  "language_info": {
   "codemirror_mode": {
    "name": "ipython",
    "version": 3
   },
   "file_extension": ".py",
   "mimetype": "text/x-python",
   "name": "python",
   "nbconvert_exporter": "python",
   "pygments_lexer": "ipython3",
   "version": "3.11.4"
  }
 },
 "nbformat": 4,
 "nbformat_minor": 2
}
